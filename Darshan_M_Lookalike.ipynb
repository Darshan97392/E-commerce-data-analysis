{
  "nbformat": 4,
  "nbformat_minor": 0,
  "metadata": {
    "colab": {
      "provenance": []
    },
    "kernelspec": {
      "name": "python3",
      "display_name": "Python 3"
    },
    "language_info": {
      "name": "python"
    }
  },
  "cells": [
    {
      "cell_type": "code",
      "execution_count": 4,
      "metadata": {
        "colab": {
          "base_uri": "https://localhost:8080/"
        },
        "id": "9i3ZiK3Uwcve",
        "outputId": "3b663016-1bf5-4d34-a143-a2de443ac760"
      },
      "outputs": [
        {
          "output_type": "stream",
          "name": "stdout",
          "text": [
            "Lookalike results saved to Lookalike.csv\n"
          ]
        }
      ],
      "source": [
        "import pandas as pd\n",
        "import matplotlib.pyplot as plt\n",
        "import seaborn as sns\n",
        "\n",
        "# Load datasets\n",
        "transactions_df = pd.read_csv(\"/content/drive/MyDrive/E COMMERCE DATA ANALYSIS/Transactions.csv\")\n",
        "products_df = pd.read_csv(\"/content/drive/MyDrive/E COMMERCE DATA ANALYSIS/Products.csv\")\n",
        "customers_df = pd.read_csv(\"/content/drive/MyDrive/E COMMERCE DATA ANALYSIS/Customers.csv\")\n",
        "\n",
        "# Convert date columns to datetime\n",
        "transactions_df[\"TransactionDate\"] = pd.to_datetime(transactions_df[\"TransactionDate\"])\n",
        "customers_df[\"SignupDate\"] = pd.to_datetime(customers_df[\"SignupDate\"])\n",
        "\n",
        "# Merge datasets\n",
        "merged_df = transactions_df.merge(products_df, on=\"ProductID\", how=\"left\")\n",
        "merged_df = merged_df.merge(customers_df, on=\"CustomerID\", how=\"left\")\n",
        "\n",
        "import pandas as pd\n",
        "from sklearn.metrics.pairwise import cosine_similarity\n",
        "\n",
        "def load_data():\n",
        "    customers = pd.read_csv(\"/content/drive/MyDrive/E COMMERCE DATA ANALYSIS/Customers.csv\")[[\"CustomerID\"]]\n",
        "    transactions = pd.read_csv(\"/content/drive/MyDrive/E COMMERCE DATA ANALYSIS/Transactions.csv\")[[\"CustomerID\", \"ProductID\", \"TotalValue\"]]\n",
        "    return customers, transactions\n",
        "\n",
        "def preprocess_data(customers, transactions):\n",
        "    pivot = transactions.pivot_table(index=\"CustomerID\", columns=\"ProductID\", values=\"TotalValue\", fill_value=0)\n",
        "    return customers, pivot\n",
        "\n",
        "def find_lookalikes(customers, pivot):\n",
        "    similarity = cosine_similarity(pivot)\n",
        "    customer_ids = pivot.index.tolist()\n",
        "    results = {customer_ids[i]: [(customer_ids[j], round(similarity[i, j], 4)) for j in similarity[i].argsort()[::-1][1:4]] for i in range(len(customer_ids))}\n",
        "    return results\n",
        "\n",
        "def save_results(results):\n",
        "    df = pd.DataFrame([(c, s[0], s[1]) for c, sims in results.items() for s in sims],\n",
        "                      columns=[\"CustomerID\", \"SimilarCustomerID\", \"SimilarityScore\"])\n",
        "    df.to_csv(\"Lookalike.csv\", index=False)\n",
        "    print(\"Lookalike results saved to Lookalike.csv\")\n",
        "\n",
        "def main():\n",
        "    customers, transactions = load_data()\n",
        "    customers, pivot = preprocess_data(customers, transactions)\n",
        "    results = find_lookalikes(customers, pivot)\n",
        "    save_results(results)\n",
        "\n",
        "if __name__ == \"__main__\":\n",
        "    main()\n",
        "\n",
        "\n",
        "\n"
      ]
    }
  ]
}